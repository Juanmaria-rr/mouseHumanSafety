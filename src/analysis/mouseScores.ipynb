{
 "cells": [
  {
   "cell_type": "code",
   "execution_count": null,
   "metadata": {},
   "outputs": [],
   "source": [
    "from pyspark.sql import SparkSession, Window\n",
    "import pyspark.sql.functions as F\n",
    "from pyspark.ml.functions import array_to_vector\n",
    "from pyspark.sql.types import IntegerType, FloatType\n",
    "from pyspark.sql.functions import udf\n",
    "\n",
    "spark = SparkSession.builder.getOrCreate()"
   ]
  },
  {
   "cell_type": "code",
   "execution_count": null,
   "metadata": {},
   "outputs": [],
   "source": [
    "mophe_path = \"gs://open-targets-data-releases/23.09/output/etl/parquet/mousePhenotypes\"\n",
    "mophe = spark.read.parquet(mophe_path)"
   ]
  },
  {
   "cell_type": "code",
   "execution_count": null,
   "metadata": {},
   "outputs": [],
   "source": [
    "### Define Harmonic Sum function:\n",
    "def harmonic_sum(evidence_scores):\n",
    "    harmonic_sum = sum(\n",
    "        score / ((i + 1) ** (2)) for i, score in enumerate(evidence_scores)\n",
    "    )\n",
    "    return float(harmonic_sum)\n",
    "\n",
    "\n",
    "### Define max Harmonic Sum function:\n",
    "def max_harmonic_sum(evidence_scores):\n",
    "    max_theoretical_harmonic_sum = sum(\n",
    "        1 / ((i + 1) ** (2)) for i in range(len(evidence_scores))\n",
    "    )\n",
    "    return float(max_theoretical_harmonic_sum)\n",
    "\n",
    "\n",
    "### define function to scale the harmonic sum\n",
    "def scaledHarmonic(score, maximum):\n",
    "    scaled_harmonic = score / maximum\n",
    "    return float(scaled_harmonic)\n",
    "\n",
    "\n",
    "### correlation of scores with genetic Constraint and Mouse phenotypes\n",
    "target_path = \"gs://open-targets-data-releases/23.09/output/etl/parquet/targets\"\n",
    "target = spark.read.parquet(target_path)\n",
    "\n",
    "### read scores\n",
    "mopheScore_path = \"gs://ot-team/jroldan/20230825_mousePheScores.csv\"\n",
    "mopheScore = spark.read.csv(mopheScore_path, header=True)\n",
    "mousePhenoScoreFilter = mopheScore.select(\n",
    "    F.col(\"id\").alias(\"idLabel\"),\n",
    "    F.col(\"label\").alias(\"phenoLabel\"),\n",
    "    F.col(\"score\"),\n",
    ").withColumn(\n",
    "    \"score\",\n",
    "    F.when(F.col(\"score\") == 0.0, F.lit(0)).otherwise(F.lit(F.col(\"score\"))),\n",
    ")\n",
    "\n",
    "### Join phenotype scores to phenotypes of targets and aggregate per target all scores\n",
    "scoreAggregation = (\n",
    "    mophe.select(\n",
    "        \"targetFromSourceId\",\n",
    "        F.explode_outer(F.col(\"modelPhenotypeClasses.id\")).alias(\"id\"),\n",
    "    )\n",
    "    .join(mousePhenoScoreFilter, F.col(\"id\") == mousePhenoScoreFilter.idLabel, \"left\")\n",
    "    .withColumn(\"score\", F.col(\"score\").cast(FloatType()))\n",
    "    .groupBy(\"targetFromSourceId\")\n",
    "    .agg(array_to_vector(F.collect_list(\"score\")).alias(\"score\"))\n",
    ")"
   ]
  },
  {
   "cell_type": "code",
   "execution_count": null,
   "metadata": {},
   "outputs": [],
   "source": [
    "harmonic_sum_udf = udf(harmonic_sum)\n",
    "max_harmonic_sum_udf = udf(max_harmonic_sum)\n",
    "scaledHarmonic_udf = udf(scaledHarmonic)\n",
    "### window function to take maximum of all harmonic sum\n",
    "window = Window.orderBy()\n",
    "\n",
    "scoreAggregation = (\n",
    "    scoreAggregation.withColumn(\"harmonic_sum\", harmonic_sum_udf(\"score\").cast(\"float\"))\n",
    "    .withColumn(\"maxHarmonicSum\", max_harmonic_sum_udf(\"score\").cast(\"float\"))\n",
    "    .withColumn(\"maximum\", F.max(\"maxHarmonicSum\").over(window).cast(\"float\"))\n",
    "    .withColumn(\"scaledHarmonicSum\", -scaledHarmonic_udf(\"harmonic_sum\", \"maximum\"))\n",
    ")\n",
    "mousePhenoScore = scoreAggregation.select(\"targetFromSourceId\", \"scaledHarmonicSum\")"
   ]
  }
 ],
 "metadata": {
  "language_info": {
   "name": "python"
  },
  "orig_nbformat": 4
 },
 "nbformat": 4,
 "nbformat_minor": 2
}
